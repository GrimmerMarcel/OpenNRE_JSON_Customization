{
 "cells": [
  {
   "cell_type": "markdown",
   "metadata": {},
   "source": [
    "# Konfiguriere Relationen und Anzahlen\n",
    "\n",
    "Diese Skript dient dazu, aus den Trainingsdaten train.json bzw. test.json des NYT-Datensatzes bestimmte Relationen herauszufilern und deren Anzahl zu bestimmen."
   ]
  },
  {
   "cell_type": "code",
   "execution_count": 5,
   "metadata": {},
   "outputs": [],
   "source": [
    "# Einlesen der Trainingsdaten\n",
    "# VORSICHT: Vorher auf Format achten für Python-Verarbeitung\n",
    "import json\n",
    "with open('train.json') as json_file: \n",
    "    data = json.load(json_file)"
   ]
  },
  {
   "cell_type": "code",
   "execution_count": 6,
   "metadata": {},
   "outputs": [],
   "source": [
    "# Filter nach Relationen (ggf. noch weitere als elif-statement)\n",
    "i = 0\n",
    "newList = []\n",
    "for item in data:\n",
    "    if item['relation'] == '/people/person/place_of_birth':\n",
    "        newList.append(item)\n",
    "    elif item['relation'] == '/business/company/founders':\n",
    "        newList.append(item)"
   ]
  },
  {
   "cell_type": "code",
   "execution_count": 7,
   "metadata": {},
   "outputs": [
    {
     "data": {
      "text/plain": [
       "4954"
      ]
     },
     "execution_count": 7,
     "metadata": {},
     "output_type": "execute_result"
    }
   ],
   "source": [
    "# Anzahl der extrahierten Relationen\n",
    "len(newList)"
   ]
  },
  {
   "cell_type": "code",
   "execution_count": 8,
   "metadata": {},
   "outputs": [],
   "source": [
    "# Schreibe Liste als JSON-Datei\n",
    "# VORSICHT: Für Verarbeitung mit OpenNRE auf Format achten\n",
    "with open('testNew.txt', 'w') as f:\n",
    "    for item in newList[0:4000]:\n",
    "        json.dump(item,f)"
   ]
  }
 ],
 "metadata": {
  "kernelspec": {
   "display_name": "Python 3",
   "language": "python",
   "name": "python3"
  },
  "language_info": {
   "codemirror_mode": {
    "name": "ipython",
    "version": 3
   },
   "file_extension": ".py",
   "mimetype": "text/x-python",
   "name": "python",
   "nbconvert_exporter": "python",
   "pygments_lexer": "ipython3",
   "version": "3.6.4"
  }
 },
 "nbformat": 4,
 "nbformat_minor": 2
}
